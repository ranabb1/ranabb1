{
 "cells": [
  {
   "cell_type": "markdown",
   "id": "972272cd",
   "metadata": {},
   "source": [
    "**Exercise 1: Create a Jupyter Notebook**"
   ]
  },
  {
   "cell_type": "markdown",
   "id": "f7217363",
   "metadata": {},
   "source": [
    "**Exercise 2: Create markdown cell with title of the notebook**\n",
    "<br>\n",
    "# Data Science Tools and Ecosystem"
   ]
  },
  {
   "cell_type": "markdown",
   "id": "faf4da1b",
   "metadata": {},
   "source": [
    "**Exercise 3 - Create a markdown cell for an introduction**\n",
    "<br>\n",
    "In this notebook, Data Science Tools and Ecosystem are summarized\n",
    "<br>\n",
    "Objectives:\n",
    "<br>\n",
    "1. List popular languages that Data Scientists use\n",
    "<br>\n",
    "2. List commonly used libraries used by Data Scientists\n",
    "<br>\n",
    "3. Comment on Data Science tools"
   ]
  },
  {
   "cell_type": "markdown",
   "id": "75d9baa2",
   "metadata": {},
   "source": [
    "**Exercise 4 - Create a markdown cell to list data science languages**\n",
    "<br>\n",
    "Some of the popular languages that Data Scientists use are:\n",
    "<br>\n",
    "1. Python\n",
    "<br>\n",
    "2. R\n",
    "<br>\n",
    "3. SQL\n",
    "<br>\n",
    "4. Java\n",
    "<br>\n",
    "5. Julia"
   ]
  },
  {
   "cell_type": "markdown",
   "id": "48e7cbf2",
   "metadata": {},
   "source": [
    "**Exercise 5 - Create a markdown cell to list data science libraries**\n",
    "<br>\n",
    "Some of the commonly used libraries used by Data Scientists include:\n",
    "<br>\n",
    "1. Pandas\n",
    "<br>\n",
    "2. NumPy\n",
    "<br>\n",
    "3. SciPy\n",
    "<br>\n",
    "4. TensorFlow\n",
    "<br>\n",
    "5. Matplotlib\n",
    "<br>\n",
    "6. Keras\n",
    "<br>\n",
    "7. SciKit-Learn\n",
    "<br>\n",
    "8. PyTorch\n",
    "<br>\n",
    "9. Scrapy\n",
    "<br>\n",
    "10.NuPIC"
   ]
  },
  {
   "cell_type": "markdown",
   "id": "5f0e11e8",
   "metadata": {},
   "source": [
    "**Exercise 6 - Create a markdown cell with a table of Data Science tools**\n",
    "<br>\n",
    "1. Apache Spark\n",
    "<br>\n",
    "2. Hadoop\n",
    "<br>\n",
    "3. Watson Studio"
   ]
  },
  {
   "cell_type": "markdown",
   "id": "a4950054",
   "metadata": {},
   "source": [
    "**Exercise 7 - Create a markdown cell introducing arithmetic expression examples**\n",
    "<br>\n",
    "### Below are a few examples of evaluating arithmetic expressions in Python"
   ]
  },
  {
   "cell_type": "code",
   "execution_count": 4,
   "id": "71eca9b4",
   "metadata": {},
   "outputs": [
    {
     "data": {
      "text/plain": [
       "5"
      ]
     },
     "execution_count": 4,
     "metadata": {},
     "output_type": "execute_result"
    }
   ],
   "source": [
    "# addition\n",
    "1+4"
   ]
  },
  {
   "cell_type": "code",
   "execution_count": 5,
   "id": "7a14f4fb",
   "metadata": {},
   "outputs": [
    {
     "data": {
      "text/plain": [
       "35"
      ]
     },
     "execution_count": 5,
     "metadata": {},
     "output_type": "execute_result"
    }
   ],
   "source": [
    "# multiplication\n",
    "5*7"
   ]
  },
  {
   "cell_type": "code",
   "execution_count": 6,
   "id": "b47c2582",
   "metadata": {},
   "outputs": [
    {
     "data": {
      "text/plain": [
       "64"
      ]
     },
     "execution_count": 6,
     "metadata": {},
     "output_type": "execute_result"
    }
   ],
   "source": [
    "# addition and multiplication\n",
    "(2+6)*8"
   ]
  },
  {
   "cell_type": "markdown",
   "id": "a0385564",
   "metadata": {},
   "source": [
    "**Exercise 9 - Create a code cell to convert minutes to hours**\n",
    "<br>\n",
    "This will convert 200 minutes to hours by diving by 60"
   ]
  },
  {
   "cell_type": "code",
   "execution_count": 7,
   "id": "62e2673f",
   "metadata": {},
   "outputs": [
    {
     "name": "stdout",
     "output_type": "stream",
     "text": [
      "0 days, 3.3333333333333335 hours, 0 mins. \n"
     ]
    }
   ],
   "source": [
    "days = 0\n",
    "hours = 0\n",
    "mins = 0\n",
    "\n",
    "time = 200\n",
    "#days = time / 1440\n",
    "leftover_minutes = time % 1440\n",
    "hours = leftover_minutes / 60\n",
    "#mins = time - (days*1440) - (hours*60)\n",
    "print(str(days) + \" days, \" + str(hours) + \" hours, \" + str(mins) +  \" mins. \")"
   ]
  },
  {
   "cell_type": "markdown",
   "id": "2a5553cc",
   "metadata": {},
   "source": [
    "**Exercise 8 - Create a code cell to multiply and add numbers**"
   ]
  },
  {
   "cell_type": "code",
   "execution_count": 8,
   "id": "d1a21bc4",
   "metadata": {},
   "outputs": [
    {
     "data": {
      "text/plain": [
       "41"
      ]
     },
     "execution_count": 8,
     "metadata": {},
     "output_type": "execute_result"
    }
   ],
   "source": [
    "(8*4)+9"
   ]
  },
  {
   "cell_type": "markdown",
   "id": "0a85593f",
   "metadata": {},
   "source": [
    "**Exercise 10 -Insert a markdown cell to list Objectives**"
   ]
  },
  {
   "cell_type": "markdown",
   "id": "44b5e802",
   "metadata": {},
   "source": [
    "#objectives\n",
    "<br>\n",
    "1. List data science languages\n",
    "<br>\n",
    "2. Commonly used languages for data science\n",
    "<br>\n",
    "3. Table of Data Science tools"
   ]
  },
  {
   "cell_type": "markdown",
   "id": "1091a2e7",
   "metadata": {},
   "source": [
    "**Exercise 11 - Create a markdown cell to indicate the Author's name**\n",
    "<br>\n",
    "## Author \n",
    "<br>\n",
    "Ranjeet Kumar"
   ]
  },
  {
   "cell_type": "code",
   "execution_count": null,
   "id": "b5ab0f81",
   "metadata": {},
   "outputs": [],
   "source": []
  }
 ],
 "metadata": {
  "kernelspec": {
   "display_name": "Python 3 (ipykernel)",
   "language": "python",
   "name": "python3"
  },
  "language_info": {
   "codemirror_mode": {
    "name": "ipython",
    "version": 3
   },
   "file_extension": ".py",
   "mimetype": "text/x-python",
   "name": "python",
   "nbconvert_exporter": "python",
   "pygments_lexer": "ipython3",
   "version": "3.11.5"
  }
 },
 "nbformat": 4,
 "nbformat_minor": 5
}
